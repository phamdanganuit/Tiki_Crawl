{
 "cells": [
  {
   "cell_type": "code",
   "execution_count": 22,
   "id": "d22060fc",
   "metadata": {},
   "outputs": [],
   "source": [
    "import pandas as pd\n",
    "import numpy as np\n"
   ]
  },
  {
   "cell_type": "code",
   "execution_count": 23,
   "id": "8a94d132",
   "metadata": {},
   "outputs": [],
   "source": [
    "df= pd.read_csv('url_final.csv')"
   ]
  },
  {
   "cell_type": "code",
   "execution_count": 24,
   "id": "6b18f1b6",
   "metadata": {},
   "outputs": [
    {
     "data": {
      "text/plain": [
       "array(['https://tiki.vn/nha-sach-tiki/c8322',\n",
       "       'https://tiki.vn/nha-cua-doi-song/c1883',\n",
       "       'https://tiki.vn/dien-thoai-may-tinh-bang/c1789',\n",
       "       'https://tiki.vn/do-choi-me-be/c2549',\n",
       "       'https://tiki.vn/thiet-bi-kts-phu-kien-so/c1815',\n",
       "       'https://tiki.vn/dien-gia-dung/c1882',\n",
       "       'https://tiki.vn/lam-dep-suc-khoe/c1520',\n",
       "       'https://tiki.vn/o-to-xe-may-xe-dap/c8594',\n",
       "       'https://tiki.vn/thoi-trang-nu/c931',\n",
       "       'https://tiki.vn/bach-hoa-online/c4384',\n",
       "       'https://tiki.vn/the-thao-da-ngoai/c1975',\n",
       "       'https://tiki.vn/thoi-trang-nam/c915',\n",
       "       'https://tiki.vn/cross-border-hang-quoc-te/c17166',\n",
       "       'https://tiki.vn/laptop-may-vi-tinh-linh-kien/c1846',\n",
       "       'https://tiki.vn/giay-dep-nam/c1686',\n",
       "       'https://tiki.vn/dien-tu-dien-lanh/c4221',\n",
       "       'https://tiki.vn/giay-dep-nu/c1703',\n",
       "       'https://tiki.vn/may-anh/c1801',\n",
       "       'https://tiki.vn/phu-kien-thoi-trang/c27498',\n",
       "       'https://tiki.vn/ngon/c44792',\n",
       "       'https://tiki.vn/dong-ho-va-trang-suc/c8371',\n",
       "       'https://tiki.vn/balo-va-vali/c6000',\n",
       "       'https://tiki.vn/voucher-dich-vu/c11312',\n",
       "       'https://tiki.vn/tui-vi-nu/c976',\n",
       "       'https://tiki.vn/tui-thoi-trang-nam/c27616',\n",
       "       'https://tiki.vn/cham-soc-nha-cua/c15078'], dtype=object)"
      ]
     },
     "execution_count": 24,
     "metadata": {},
     "output_type": "execute_result"
    }
   ],
   "source": [
    "df['detail'].unique()"
   ]
  },
  {
   "cell_type": "code",
   "execution_count": 25,
   "id": "adb47f21",
   "metadata": {},
   "outputs": [],
   "source": [
    "#tạo 1 từ điển để ánh xạ giá trị detail thành các giá trị mà nó đang giữ ví dụ https://tiki.vn/laptop-may-vi-tinh-linh-kien/c1846 sẽ là laptop-may-vi-tinh-linh-kien\n",
    "\n",
    "df['detail'] = df['detail'].str.replace('https://tiki.vn/', '')\n",
    "df['detail'] = df['detail'].str.replace('/', '-')"
   ]
  },
  {
   "cell_type": "code",
   "execution_count": 26,
   "id": "7d0cb7cc",
   "metadata": {},
   "outputs": [
    {
     "data": {
      "text/html": [
       "<div>\n",
       "<style scoped>\n",
       "    .dataframe tbody tr th:only-of-type {\n",
       "        vertical-align: middle;\n",
       "    }\n",
       "\n",
       "    .dataframe tbody tr th {\n",
       "        vertical-align: top;\n",
       "    }\n",
       "\n",
       "    .dataframe thead th {\n",
       "        text-align: right;\n",
       "    }\n",
       "</style>\n",
       "<table border=\"1\" class=\"dataframe\">\n",
       "  <thead>\n",
       "    <tr style=\"text-align: right;\">\n",
       "      <th></th>\n",
       "      <th>URL</th>\n",
       "      <th>detail</th>\n",
       "    </tr>\n",
       "  </thead>\n",
       "  <tbody>\n",
       "    <tr>\n",
       "      <th>0</th>\n",
       "      <td>https://tiki.vn/thay-doi-ti-hon-hieu-qua-bat-n...</td>\n",
       "      <td>nha sach tiki</td>\n",
       "    </tr>\n",
       "    <tr>\n",
       "      <th>1</th>\n",
       "      <td>https://tiki.vn/hai-so-phan-bia-cung-p24987517...</td>\n",
       "      <td>nha sach tiki</td>\n",
       "    </tr>\n",
       "    <tr>\n",
       "      <th>2</th>\n",
       "      <td>https://tiki.vn/bup-sen-xanh-p262590428.html?s...</td>\n",
       "      <td>nha sach tiki</td>\n",
       "    </tr>\n",
       "    <tr>\n",
       "      <th>3</th>\n",
       "      <td>https://tiki.vn/nguoi-dan-ong-mang-ten-ove-tai...</td>\n",
       "      <td>nha sach tiki</td>\n",
       "    </tr>\n",
       "    <tr>\n",
       "      <th>4</th>\n",
       "      <td>https://tiki.vn/tap-tho-nguoi-la-mot-bong-chim...</td>\n",
       "      <td>nha sach tiki</td>\n",
       "    </tr>\n",
       "    <tr>\n",
       "      <th>...</th>\n",
       "      <td>...</td>\n",
       "      <td>...</td>\n",
       "    </tr>\n",
       "    <tr>\n",
       "      <th>1384</th>\n",
       "      <td>https://tiki.vn/loc-4-goi-khan-giay-cao-cap-te...</td>\n",
       "      <td>cham soc nha cua</td>\n",
       "    </tr>\n",
       "    <tr>\n",
       "      <th>1385</th>\n",
       "      <td>https://tiki.vn/nuoc-giat-khang-khuan-mao-bao-...</td>\n",
       "      <td>cham soc nha cua</td>\n",
       "    </tr>\n",
       "    <tr>\n",
       "      <th>1386</th>\n",
       "      <td>https://tiki.vn/xit-phong-tinh-dau-duoi-muoi-g...</td>\n",
       "      <td>cham soc nha cua</td>\n",
       "    </tr>\n",
       "    <tr>\n",
       "      <th>1387</th>\n",
       "      <td>https://tka.tiki.vn/pixel/pixel?data=LbJRIGH5q...</td>\n",
       "      <td>cham soc nha cua</td>\n",
       "    </tr>\n",
       "    <tr>\n",
       "      <th>1388</th>\n",
       "      <td>https://tiki.vn/vien-giat-xa-top-step-huong-na...</td>\n",
       "      <td>cham soc nha cua</td>\n",
       "    </tr>\n",
       "  </tbody>\n",
       "</table>\n",
       "<p>1389 rows × 2 columns</p>\n",
       "</div>"
      ],
      "text/plain": [
       "                                                    URL            detail\n",
       "0     https://tiki.vn/thay-doi-ti-hon-hieu-qua-bat-n...     nha sach tiki\n",
       "1     https://tiki.vn/hai-so-phan-bia-cung-p24987517...     nha sach tiki\n",
       "2     https://tiki.vn/bup-sen-xanh-p262590428.html?s...     nha sach tiki\n",
       "3     https://tiki.vn/nguoi-dan-ong-mang-ten-ove-tai...     nha sach tiki\n",
       "4     https://tiki.vn/tap-tho-nguoi-la-mot-bong-chim...     nha sach tiki\n",
       "...                                                 ...               ...\n",
       "1384  https://tiki.vn/loc-4-goi-khan-giay-cao-cap-te...  cham soc nha cua\n",
       "1385  https://tiki.vn/nuoc-giat-khang-khuan-mao-bao-...  cham soc nha cua\n",
       "1386  https://tiki.vn/xit-phong-tinh-dau-duoi-muoi-g...  cham soc nha cua\n",
       "1387  https://tka.tiki.vn/pixel/pixel?data=LbJRIGH5q...  cham soc nha cua\n",
       "1388  https://tiki.vn/vien-giat-xa-top-step-huong-na...  cham soc nha cua\n",
       "\n",
       "[1389 rows x 2 columns]"
      ]
     },
     "execution_count": 26,
     "metadata": {},
     "output_type": "execute_result"
    }
   ],
   "source": [
    "# xóa các giá trị ở phía sau ví dụ nha-sach-tiki-c8322 sẽ thành Nha Sach Tiki\n",
    "df['detail'] = df['detail'].str.split('-').str[:-1].str.join('-')\n",
    "df['detail'] = df['detail'].str.replace('-', ' ')\n",
    "df"
   ]
  },
  {
   "cell_type": "code",
   "execution_count": null,
   "id": "3ee1ea7d",
   "metadata": {},
   "outputs": [],
   "source": [
    "categories = df['detail'].unique().tolist()\n",
    "detail2num = {categories[i]: i for i in range(len(categories))}\n",
    "df['detail'] = df['detail'].map(detail2num)\n"
   ]
  },
  {
   "cell_type": "code",
   "execution_count": 33,
   "id": "f387776c",
   "metadata": {},
   "outputs": [
    {
     "data": {
      "text/html": [
       "<div>\n",
       "<style scoped>\n",
       "    .dataframe tbody tr th:only-of-type {\n",
       "        vertical-align: middle;\n",
       "    }\n",
       "\n",
       "    .dataframe tbody tr th {\n",
       "        vertical-align: top;\n",
       "    }\n",
       "\n",
       "    .dataframe thead th {\n",
       "        text-align: right;\n",
       "    }\n",
       "</style>\n",
       "<table border=\"1\" class=\"dataframe\">\n",
       "  <thead>\n",
       "    <tr style=\"text-align: right;\">\n",
       "      <th></th>\n",
       "      <th>URL</th>\n",
       "      <th>detail</th>\n",
       "    </tr>\n",
       "  </thead>\n",
       "  <tbody>\n",
       "    <tr>\n",
       "      <th>0</th>\n",
       "      <td>https://tiki.vn/thay-doi-ti-hon-hieu-qua-bat-n...</td>\n",
       "      <td>0</td>\n",
       "    </tr>\n",
       "    <tr>\n",
       "      <th>1</th>\n",
       "      <td>https://tiki.vn/hai-so-phan-bia-cung-p24987517...</td>\n",
       "      <td>0</td>\n",
       "    </tr>\n",
       "    <tr>\n",
       "      <th>2</th>\n",
       "      <td>https://tiki.vn/bup-sen-xanh-p262590428.html?s...</td>\n",
       "      <td>0</td>\n",
       "    </tr>\n",
       "    <tr>\n",
       "      <th>3</th>\n",
       "      <td>https://tiki.vn/nguoi-dan-ong-mang-ten-ove-tai...</td>\n",
       "      <td>0</td>\n",
       "    </tr>\n",
       "    <tr>\n",
       "      <th>4</th>\n",
       "      <td>https://tiki.vn/tap-tho-nguoi-la-mot-bong-chim...</td>\n",
       "      <td>0</td>\n",
       "    </tr>\n",
       "    <tr>\n",
       "      <th>...</th>\n",
       "      <td>...</td>\n",
       "      <td>...</td>\n",
       "    </tr>\n",
       "    <tr>\n",
       "      <th>1384</th>\n",
       "      <td>https://tiki.vn/loc-4-goi-khan-giay-cao-cap-te...</td>\n",
       "      <td>25</td>\n",
       "    </tr>\n",
       "    <tr>\n",
       "      <th>1385</th>\n",
       "      <td>https://tiki.vn/nuoc-giat-khang-khuan-mao-bao-...</td>\n",
       "      <td>25</td>\n",
       "    </tr>\n",
       "    <tr>\n",
       "      <th>1386</th>\n",
       "      <td>https://tiki.vn/xit-phong-tinh-dau-duoi-muoi-g...</td>\n",
       "      <td>25</td>\n",
       "    </tr>\n",
       "    <tr>\n",
       "      <th>1387</th>\n",
       "      <td>https://tka.tiki.vn/pixel/pixel?data=LbJRIGH5q...</td>\n",
       "      <td>25</td>\n",
       "    </tr>\n",
       "    <tr>\n",
       "      <th>1388</th>\n",
       "      <td>https://tiki.vn/vien-giat-xa-top-step-huong-na...</td>\n",
       "      <td>25</td>\n",
       "    </tr>\n",
       "  </tbody>\n",
       "</table>\n",
       "<p>1389 rows × 2 columns</p>\n",
       "</div>"
      ],
      "text/plain": [
       "                                                    URL detail\n",
       "0     https://tiki.vn/thay-doi-ti-hon-hieu-qua-bat-n...      0\n",
       "1     https://tiki.vn/hai-so-phan-bia-cung-p24987517...      0\n",
       "2     https://tiki.vn/bup-sen-xanh-p262590428.html?s...      0\n",
       "3     https://tiki.vn/nguoi-dan-ong-mang-ten-ove-tai...      0\n",
       "4     https://tiki.vn/tap-tho-nguoi-la-mot-bong-chim...      0\n",
       "...                                                 ...    ...\n",
       "1384  https://tiki.vn/loc-4-goi-khan-giay-cao-cap-te...     25\n",
       "1385  https://tiki.vn/nuoc-giat-khang-khuan-mao-bao-...     25\n",
       "1386  https://tiki.vn/xit-phong-tinh-dau-duoi-muoi-g...     25\n",
       "1387  https://tka.tiki.vn/pixel/pixel?data=LbJRIGH5q...     25\n",
       "1388  https://tiki.vn/vien-giat-xa-top-step-huong-na...     25\n",
       "\n",
       "[1389 rows x 2 columns]"
      ]
     },
     "execution_count": 33,
     "metadata": {},
     "output_type": "execute_result"
    }
   ],
   "source": [
    "df"
   ]
  },
  {
   "cell_type": "code",
   "execution_count": 34,
   "id": "6d698456",
   "metadata": {},
   "outputs": [],
   "source": [
    "#lưu lại file đã được ánh xạ\n",
    "df.to_csv('url_final.csv', index=False)"
   ]
  }
 ],
 "metadata": {
  "kernelspec": {
   "display_name": "Python 3",
   "language": "python",
   "name": "python3"
  },
  "language_info": {
   "codemirror_mode": {
    "name": "ipython",
    "version": 3
   },
   "file_extension": ".py",
   "mimetype": "text/x-python",
   "name": "python",
   "nbconvert_exporter": "python",
   "pygments_lexer": "ipython3",
   "version": "3.12.6"
  }
 },
 "nbformat": 4,
 "nbformat_minor": 5
}
