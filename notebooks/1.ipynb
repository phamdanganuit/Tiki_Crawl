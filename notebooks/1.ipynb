{
 "cells": [
  {
   "cell_type": "code",
   "execution_count": 1,
   "id": "cae5f623",
   "metadata": {},
   "outputs": [],
   "source": [
    "import pandas as pd"
   ]
  },
  {
   "cell_type": "code",
   "execution_count": 2,
   "id": "ece78acf",
   "metadata": {},
   "outputs": [],
   "source": [
    "df= pd.read_csv('url_final.csv')"
   ]
  },
  {
   "cell_type": "code",
   "execution_count": null,
   "id": "6c4bd90c",
   "metadata": {},
   "outputs": [
    {
     "name": "stdout",
     "output_type": "stream",
     "text": [
      "Số lượng giá trị unique trong cột detail: 26\n",
      "Số lượng hàng trong df1: 130\n"
     ]
    }
   ],
   "source": [
    "unique_details = df['detail'].unique()\n",
    "print(f\"Số lượng giá trị unique trong cột detail: {len(unique_details)}\")\n",
    "\n",
    "df1 = pd.DataFrame(columns=['URL', 'detail'])\n",
    "\n",
    "for detail_value in unique_details:\n",
    "    detail_df = df[df['detail'] == detail_value]\n",
    "    \n",
    "    if len(detail_df) <= 5:\n",
    "        sampled_rows = detail_df\n",
    "    else:\n",
    "        sampled_rows = detail_df.sample(n=5, random_state=42)\n",
    "    \n",
    "    df1 = pd.concat([df1, sampled_rows])\n",
    "\n",
    "df1 = df1.reset_index(drop=True)\n",
    "\n",
    "print(f\"Số lượng hàng trong df1: {len(df1)}\")"
   ]
  },
  {
   "cell_type": "code",
   "execution_count": 5,
   "id": "6fc88a1c",
   "metadata": {},
   "outputs": [],
   "source": [
    "df1.to_csv('url_final_5.csv', index=False, encoding='utf-8-sig')"
   ]
  }
 ],
 "metadata": {
  "kernelspec": {
   "display_name": "Python 3",
   "language": "python",
   "name": "python3"
  },
  "language_info": {
   "codemirror_mode": {
    "name": "ipython",
    "version": 3
   },
   "file_extension": ".py",
   "mimetype": "text/x-python",
   "name": "python",
   "nbconvert_exporter": "python",
   "pygments_lexer": "ipython3",
   "version": "3.12.6"
  }
 },
 "nbformat": 4,
 "nbformat_minor": 5
}
